{
 "cells": [
  {
   "cell_type": "markdown",
   "metadata": {},
   "source": [
    "This is to extract population related variables from SEER dataset. The variables are:\n",
    "\n",
    "* Total Population\n",
    "* % Black population\n",
    "* % White population\n",
    "* % Age 0-19\n",
    "* % Age 20-39\n",
    "* % Age 40-64\n",
    "* % Age 65+\n",
    "* % Female\n"
   ]
  },
  {
   "cell_type": "code",
   "execution_count": 42,
   "metadata": {},
   "outputs": [],
   "source": [
    "import os\n",
    "os.chdir('/Users/babak.jfard/projects/NASA_IMERG_Respiratory/')"
   ]
  },
  {
   "cell_type": "code",
   "execution_count": 43,
   "metadata": {},
   "outputs": [],
   "source": [
    "import pandas as pd\n",
    "\n",
    "def read_SEER_population_file(file_path):\n",
    "    # Define column widths and names based on the SEER data dictionary\n",
    "    col_specs = [\n",
    "        (0, 4),   # Year\n",
    "        (4, 6),   # State postal abbreviation\n",
    "        (6, 8),   # State FIPS code\n",
    "        (8, 11),  # County FIPS code\n",
    "        (11, 13), # Registry\n",
    "        (13, 14), # Race\n",
    "        (14, 15), # Origin\n",
    "        (15, 16), # Sex\n",
    "        (16, 18), # Age\n",
    "        (18, 26)  # Population\n",
    "    ]\n",
    "    \n",
    "    col_names = [\n",
    "        'Year', 'State Abbreviation', 'State FIPS Code', 'County FIPS Code', \n",
    "        'Registry', 'Race', 'Origin', 'Sex', 'Age', 'Population'\n",
    "    ]\n",
    "    \n",
    "    # Read the file using read_fwf (fixed-width file reader) in pandas\n",
    "    df = pd.read_fwf(\n",
    "        file_path,\n",
    "        colspecs=col_specs,\n",
    "        names=col_names,\n",
    "        header=None,\n",
    "        dtype=str\n",
    "    )\n",
    "    \n",
    "    # Convert numeric columns from string to appropriate numeric types\n",
    "    numeric_cols = ['Year', 'Registry', 'Race', 'Origin', 'Sex', 'Age', 'Population']\n",
    "    for col in numeric_cols:\n",
    "        df[col] = pd.to_numeric(df[col], errors='coerce')\n",
    "    \n",
    "    df['County_FIPS'] = df['State FIPS Code'] + df['County FIPS Code']\n",
    "    df['County_FIPS'] =df['County_FIPS'].astype('int')\n",
    "    df.drop(['State FIPS Code','County FIPS Code'], axis=1, inplace=True)\n",
    "\n",
    "    return df"
   ]
  },
  {
   "cell_type": "code",
   "execution_count": 59,
   "metadata": {},
   "outputs": [],
   "source": [
    "states = ['CA', 'GA', 'OR', 'SC']\n",
    "path = 'Data/raw/'\n",
    "\n",
    "state = 'CA'\n",
    "state = 'GA'\n",
    "state = 'OR'\n",
    "state = 'SC'\n",
    "pops = read_SEER_population_file(path+state.lower()+'.1969_2022.19ages.txt')\n",
    "    \n"
   ]
  },
  {
   "cell_type": "code",
   "execution_count": 60,
   "metadata": {},
   "outputs": [],
   "source": [
    "# Limiting the years to the study period\n",
    "pops = pops[pops['Year'].isin(range(2003, 2020))]"
   ]
  },
  {
   "cell_type": "code",
   "execution_count": 61,
   "metadata": {},
   "outputs": [],
   "source": [
    "# We are interested in 8 variables. Will calculate one by one into one list\n",
    "# and then merge them all into one final\n",
    "calculated_vars = [None] * 10\n",
    "# ranges = [[0, 4], [5, 8], [9, 13], [14, 18]]\n",
    "ranges = [0, 5, 9, 14, 19]\n",
    "ages = ['Age 0-19', 'Age 20-39', 'Age 40-64', 'Age 65+']\n",
    "\n",
    "for i in range(len(ages)):\n",
    "    calculated_vars[i] = pops[pops['Age'].isin(range(ranges[i], ranges[i+1]))].groupby(['County_FIPS', 'Year'])['Population'].sum().reset_index().rename(columns={'Population': ages[i]})\n",
    "\n",
    "# Calculating total While and Black populations\n",
    "filter_vars = ['Race', 'Race', 'Race', 'Sex', 'Sex']\n",
    "filter_vals = [1, 2, 3, 1, 2]\n",
    "col_names = ['White', 'Black', 'Other', 'Male', 'Female']\n",
    "\n",
    "for i in range(len(filter_vars)):\n",
    "    calculated_vars[i+4] = pops[pops[filter_vars[i]]==filter_vals[i]].groupby(\n",
    "        ['County_FIPS', 'Year'])['Population'].sum().reset_index().rename(columns={'Population': col_names[i]})\n",
    "\n",
    "calculated_vars[9] = pops.groupby(['County_FIPS', 'Year'])['Population'].sum().reset_index().rename(columns={'Population': 'Total Population'})"
   ]
  },
  {
   "cell_type": "code",
   "execution_count": 62,
   "metadata": {},
   "outputs": [],
   "source": [
    "import functools\n",
    "pop_vars = functools.reduce(lambda left, right: pd.merge(left, right, on=['County_FIPS', 'Year']), calculated_vars)"
   ]
  },
  {
   "cell_type": "code",
   "execution_count": 63,
   "metadata": {},
   "outputs": [
    {
     "data": {
      "text/plain": [
       "Index(['County_FIPS', 'Year', 'Age 0-19', 'Age 20-39', 'Age 40-64', 'Age 65+',\n",
       "       'White', 'Black', 'Other', 'Male', 'Female', 'Total Population'],\n",
       "      dtype='object')"
      ]
     },
     "execution_count": 63,
     "metadata": {},
     "output_type": "execute_result"
    }
   ],
   "source": [
    "pop_vars.columns"
   ]
  },
  {
   "cell_type": "code",
   "execution_count": 64,
   "metadata": {},
   "outputs": [],
   "source": [
    "# Select the columns to calculate the percentage\n",
    "columns_to_calculate = ['Age 0-19', 'Age 20-39', 'Age 40-64', 'Age 65+',\n",
    "                         'White', 'Black', 'Other', 'Male', 'Female']\n",
    "\n",
    "# Divide each column by the 'Total Population' column\n",
    "for column in columns_to_calculate:\n",
    "    pop_vars[column + ' (%)'] = round((pop_vars[column] / pop_vars['Total Population']),3)\n",
    "\n",
    "pop_vars.drop(columns=columns_to_calculate, inplace=True)"
   ]
  },
  {
   "cell_type": "code",
   "execution_count": 65,
   "metadata": {},
   "outputs": [],
   "source": [
    "pop_vars.to_csv('Data/interim/'+state+'_population_vars.csv', index=False)"
   ]
  },
  {
   "cell_type": "code",
   "execution_count": null,
   "metadata": {},
   "outputs": [],
   "source": []
  }
 ],
 "metadata": {
  "kernelspec": {
   "display_name": "geotools",
   "language": "python",
   "name": "python3"
  },
  "language_info": {
   "codemirror_mode": {
    "name": "ipython",
    "version": 3
   },
   "file_extension": ".py",
   "mimetype": "text/x-python",
   "name": "python",
   "nbconvert_exporter": "python",
   "pygments_lexer": "ipython3",
   "version": "3.12.2"
  }
 },
 "nbformat": 4,
 "nbformat_minor": 2
}
